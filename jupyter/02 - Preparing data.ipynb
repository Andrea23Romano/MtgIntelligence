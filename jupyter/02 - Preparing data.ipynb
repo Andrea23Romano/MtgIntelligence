{
 "cells": [
  {
   "cell_type": "code",
   "execution_count": 1,
   "metadata": {},
   "outputs": [],
   "source": [
    "import pandas as pd\n",
    "import numpy as np\n",
    "import matplotlib.pyplot as plt\n",
    "import seaborn as sns\n",
    "import os\n",
    "import sqlite3\n",
    "\n",
    "# Make numpy values easier to read.\n",
    "np.set_printoptions(precision=3, suppress=True)\n",
    "\n",
    "import tensorflow as tf\n",
    "from tensorflow import keras\n",
    "import keras_tuner as kt\n",
    "\n",
    "dirname = os.path.dirname('__file__')\n",
    "db_path = os.path.join(dirname, 'data', 'MtgI.db')\n",
    "connector = sqlite3.connect(db_path)\n",
    "land_names = pd.read_sql(r'''SELECT DISTINCT name\n",
    "FROM CardsData\n",
    "WHERE type_line LIKE '%land%' AND\n",
    "pioneer='legal'\n",
    "ORDER BY produced_mana;''',connector)\n",
    "nonland_names = pd.read_sql(r'''SELECT DISTINCT name\n",
    "FROM CardsData\n",
    "WHERE type_line NOT LIKE '%land%'\n",
    "AND pioneer='legal'\n",
    "ORDER BY color_identity,cmc;''',connector)\n",
    "decklists = pd.read_sql('SELECT * FROM Decklists;',connector)\n",
    "\n",
    "# nonland_list = []\n",
    "# land_list = []\n",
    "\n",
    "# deck_ids = decklists['deck_id'].unique()\n",
    "\n",
    "\n",
    "# for id in deck_ids:\n",
    "#     id_nonland_df = decklists.loc[(decklists['deck_id']==id)&(decklists['card_name'].isin(nonland_names['name']))][['main_count','card_name']]\n",
    "#     id_land_df = decklists.loc[(decklists['deck_id']==id)&(decklists['card_name'].isin(nonland_names['name']))][['main_count','card_name']]\n",
    "#     nonland_list.append([id_nonland_df])\n",
    "#     land_list.append([id_land_df])\n"
   ]
  },
  {
   "cell_type": "code",
   "execution_count": 25,
   "metadata": {},
   "outputs": [
    {
     "name": "stdout",
     "output_type": "stream",
     "text": [
      "155\n"
     ]
    }
   ],
   "source": [
    "land_names=list(land_names)\n",
    "nonland_names=list(nonland_names)\n",
    "card_names=land_names+nonland_names\n",
    "\n",
    "deck_archetypes = pd.read_sql(r'''SELECT deck_id, archetype\n",
    "                                FROM Decks\n",
    "                                INNER JOIN Tournaments ON Tournaments.tournament_id=Decks.tournament_id\n",
    "                                WHERE format='PI';\n",
    "    ''',connector)\n",
    "deck_archetypes=deck_archetypes\n",
    "print(len(deck_archetypes['archetype'].unique()))"
   ]
  },
  {
   "cell_type": "code",
   "execution_count": 44,
   "metadata": {},
   "outputs": [
    {
     "name": "stdout",
     "output_type": "stream",
     "text": [
      "Index(['Obscura Storefront', 'Evolving Wilds', 'Riveteers Overlook',\n",
      "       'Fabled Passage', 'Maestros Theater', 'Brokers Hideout',\n",
      "       'Cabaretti Courtyard', 'Swamp', 'Urborg, Tomb of Yawgmoth',\n",
      "       'Desert of the Glorified',\n",
      "       ...\n",
      "       'Profound Journey', 'Vanquish the Horde', 'Zetalpa, Primal Dawn',\n",
      "       'Parhelion II', 'Wakening Sun's Avatar', 'Overwhelming Splendor',\n",
      "       'Flight of Equenauts', 'Angel of Deliverance',\n",
      "       'Brisela, Voice of Nightmares', 'archetype'],\n",
      "      dtype='object', length=8838)\n"
     ]
    },
    {
     "name": "stderr",
     "output_type": "stream",
     "text": [
      "C:\\Users\\spark\\AppData\\Local\\Temp\\ipykernel_19016\\1072072210.py:7: FutureWarning: The frame.append method is deprecated and will be removed from pandas in a future version. Use pandas.concat instead.\n",
      "  data_matrix_complete = data_matrix_complete.append(data_matrix,ignore_index=True)\n"
     ]
    }
   ],
   "source": [
    "pivot_decklists = decklists.pivot_table(values='main_count',columns='card_name',index='deck_id',fill_value=0)\n",
    "\n",
    "data_matrix = pivot_decklists.merge(deck_archetypes, on='deck_id', how='left')\n",
    "data_matrix_complete = pd.DataFrame(columns=card_names+['archetype'])\n",
    "print(data_matrix_complete.columns)\n",
    "\n",
    "data_matrix_complete = data_matrix_complete.append(data_matrix,ignore_index=True)\n",
    "data_matrix_complete=data_matrix_complete.fillna(0)\n",
    "\n"
   ]
  },
  {
   "cell_type": "code",
   "execution_count": 46,
   "metadata": {},
   "outputs": [
    {
     "name": "stdout",
     "output_type": "stream",
     "text": [
      "0       0\n",
      "1       0\n",
      "2       0\n",
      "3       0\n",
      "4       0\n",
      "       ..\n",
      "6763    0\n",
      "6764    0\n",
      "6765    0\n",
      "6766    0\n",
      "6767    0\n",
      "Name: archetype, Length: 6768, dtype: object\n"
     ]
    }
   ],
   "source": [
    "print(data_matrix_complete['archetype'])"
   ]
  }
 ],
 "metadata": {
  "kernelspec": {
   "display_name": "Python 3.9.12 ('ML')",
   "language": "python",
   "name": "python3"
  },
  "language_info": {
   "codemirror_mode": {
    "name": "ipython",
    "version": 3
   },
   "file_extension": ".py",
   "mimetype": "text/x-python",
   "name": "python",
   "nbconvert_exporter": "python",
   "pygments_lexer": "ipython3",
   "version": "3.9.12"
  },
  "orig_nbformat": 4,
  "vscode": {
   "interpreter": {
    "hash": "5b065513517ad2a0ff0f533a6a12ec9e95bf078fb0569e2df7dfe1b0611b3897"
   }
  }
 },
 "nbformat": 4,
 "nbformat_minor": 2
}
